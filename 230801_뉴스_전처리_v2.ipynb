{
 "cells": [
  {
   "cell_type": "code",
   "execution_count": 1,
   "metadata": {
    "ExecuteTime": {
     "end_time": "2023-08-10T11:37:02.532900Z",
     "start_time": "2023-08-10T11:37:02.351779Z"
    },
    "id": "cs5rlbCQ8PhX"
   },
   "outputs": [],
   "source": [
    "import pandas as pd\n",
    "import numpy as np"
   ]
  },
  {
   "cell_type": "code",
   "execution_count": 2,
   "metadata": {
    "ExecuteTime": {
     "end_time": "2023-08-10T11:37:12.450064Z",
     "start_time": "2023-08-10T11:37:12.433850Z"
    },
    "colab": {
     "base_uri": "https://localhost:8080/"
    },
    "id": "YxBMOp098U84",
    "outputId": "6e49d848-115f-4882-f027-a81d59be6e8c",
    "scrolled": true
   },
   "outputs": [],
   "source": [
    "# # This mounts your Google Drive to the Colab VM.\n",
    "# from google.colab import drive\n",
    "# drive.mount('/content/drive')"
   ]
  },
  {
   "cell_type": "code",
   "execution_count": 5,
   "metadata": {
    "ExecuteTime": {
     "end_time": "2023-08-10T11:37:32.961531Z",
     "start_time": "2023-08-10T11:37:32.789358Z"
    },
    "colab": {
     "base_uri": "https://localhost:8080/"
    },
    "id": "9M_QApUz8W2e",
    "outputId": "1b0827e3-a0ce-4258-8a42-1067e607a0ec"
   },
   "outputs": [
    {
     "data": {
      "text/html": [
       "<div>\n",
       "<style scoped>\n",
       "    .dataframe tbody tr th:only-of-type {\n",
       "        vertical-align: middle;\n",
       "    }\n",
       "\n",
       "    .dataframe tbody tr th {\n",
       "        vertical-align: top;\n",
       "    }\n",
       "\n",
       "    .dataframe thead th {\n",
       "        text-align: right;\n",
       "    }\n",
       "</style>\n",
       "<table border=\"1\" class=\"dataframe\">\n",
       "  <thead>\n",
       "    <tr style=\"text-align: right;\">\n",
       "      <th></th>\n",
       "      <th>제목</th>\n",
       "      <th>뉴스 출처</th>\n",
       "      <th>날짜</th>\n",
       "      <th>뉴스 본문</th>\n",
       "      <th>관련 href</th>\n",
       "      <th>preprocessed_content</th>\n",
       "      <th>preprocessed_title</th>\n",
       "      <th>구분</th>\n",
       "    </tr>\n",
       "  </thead>\n",
       "  <tbody>\n",
       "    <tr>\n",
       "      <th>0</th>\n",
       "      <td>\\n“주워담기 바쁘다”...외국인 뭉칫돈 몰리는 이 종목, 이번엔 오를까\\n</td>\n",
       "      <td>매일경제</td>\n",
       "      <td>2023-08-07 22:01</td>\n",
       "      <td>잇단 목표가 상향 네이버 5% 상승외국인 투자자 186억원어치 순매수에코프로 등 2...</td>\n",
       "      <td>https://finance.naver.com/news/news_read.naver...</td>\n",
       "      <td>잇단 목표가 상향 네이버 5% 상승외국인 투자자 186억원어치 순매수에코프로 등 2...</td>\n",
       "      <td>주워담기 바쁘다 외국인 뭉칫돈 몰리는 이 종목, 이번엔 오를까</td>\n",
       "      <td>시황전망</td>\n",
       "    </tr>\n",
       "    <tr>\n",
       "      <th>1</th>\n",
       "      <td>\\n\"北, 동맹국 러 방산업체까지 해킹\"&lt;로이터&gt;\\n</td>\n",
       "      <td>서울경제</td>\n",
       "      <td>2023-08-07 21:21</td>\n",
       "      <td>[서울경제] 북한 해커집단이 러시아 주요 미사일 개발업체의 방화벽을 비밀리에 뚫는 ...</td>\n",
       "      <td>https://finance.naver.com/news/news_read.naver...</td>\n",
       "      <td>북한 해커집단이 러시아 주요 미사일 개발업체의 방화벽을 비밀리에 뚫는 데 성공한 것...</td>\n",
       "      <td>北, 동맹국 러 방산업체까지 해킹 &lt;로이터&gt;</td>\n",
       "      <td>시황전망</td>\n",
       "    </tr>\n",
       "    <tr>\n",
       "      <th>2</th>\n",
       "      <td>\\n'훈센 장남' 훈 마넷, 총리로 공식 지명\\n</td>\n",
       "      <td>서울경제</td>\n",
       "      <td>2023-08-07 20:56</td>\n",
       "      <td>[서울경제] 캄보디아 국왕이 훈센 총리의 장남인 훈 마넷을 차기 총리로 공식 지명했...</td>\n",
       "      <td>https://finance.naver.com/news/news_read.naver...</td>\n",
       "      <td>캄보디아 국왕이 훈센 총리의 장남인 훈 마넷을 차기 총리로 공식 지명했다.7일 AF...</td>\n",
       "      <td>훈센 장남 훈 마넷, 총리로 공식 지명</td>\n",
       "      <td>시황전망</td>\n",
       "    </tr>\n",
       "  </tbody>\n",
       "</table>\n",
       "</div>"
      ],
      "text/plain": [
       "                                           제목 뉴스 출처                날짜  \\\n",
       "0  \\n“주워담기 바쁘다”...외국인 뭉칫돈 몰리는 이 종목, 이번엔 오를까\\n  매일경제  2023-08-07 22:01   \n",
       "1               \\n\"北, 동맹국 러 방산업체까지 해킹\"<로이터>\\n  서울경제  2023-08-07 21:21   \n",
       "2                 \\n'훈센 장남' 훈 마넷, 총리로 공식 지명\\n  서울경제  2023-08-07 20:56   \n",
       "\n",
       "                                               뉴스 본문  \\\n",
       "0  잇단 목표가 상향 네이버 5% 상승외국인 투자자 186억원어치 순매수에코프로 등 2...   \n",
       "1  [서울경제] 북한 해커집단이 러시아 주요 미사일 개발업체의 방화벽을 비밀리에 뚫는 ...   \n",
       "2  [서울경제] 캄보디아 국왕이 훈센 총리의 장남인 훈 마넷을 차기 총리로 공식 지명했...   \n",
       "\n",
       "                                             관련 href  \\\n",
       "0  https://finance.naver.com/news/news_read.naver...   \n",
       "1  https://finance.naver.com/news/news_read.naver...   \n",
       "2  https://finance.naver.com/news/news_read.naver...   \n",
       "\n",
       "                                preprocessed_content  \\\n",
       "0  잇단 목표가 상향 네이버 5% 상승외국인 투자자 186억원어치 순매수에코프로 등 2...   \n",
       "1  북한 해커집단이 러시아 주요 미사일 개발업체의 방화벽을 비밀리에 뚫는 데 성공한 것...   \n",
       "2  캄보디아 국왕이 훈센 총리의 장남인 훈 마넷을 차기 총리로 공식 지명했다.7일 AF...   \n",
       "\n",
       "                    preprocessed_title    구분  \n",
       "0   주워담기 바쁘다 외국인 뭉칫돈 몰리는 이 종목, 이번엔 오를까  시황전망  \n",
       "1             北, 동맹국 러 방산업체까지 해킹 <로이터>  시황전망  \n",
       "2                훈센 장남 훈 마넷, 총리로 공식 지명  시황전망  "
      ]
     },
     "execution_count": 5,
     "metadata": {},
     "output_type": "execute_result"
    }
   ],
   "source": [
    "# 파일 경로와 변수명을 딕셔너리로 정의\n",
    "file_var_map = {\n",
    "    './data/시황전망_news_크롤링_전처리_v1.xlsx': '시황전망',\n",
    "    './data/기업종목분석_news_크롤링_전처리_v1.xlsx': '기업종목분석',\n",
    "    './data/해외증시_news_크롤링_전처리_v1.xlsx': '해외증시',\n",
    "    './data/채권선물_news_크롤링_전처리_v1.xlsx': '채권선물',\n",
    "    './data/환율_news_크롤링_전처리_v1.xlsx': '환율'\n",
    "}\n",
    "\n",
    "# 파일 읽어서 딕셔너리에 저장\n",
    "dataframes = {}\n",
    "for file_path, var_name in file_var_map.items():\n",
    "    df = pd.read_excel(file_path)\n",
    "    df['구분'] = var_name\n",
    "    dataframes[var_name] = df\n",
    "\n",
    "# 모든 DataFrame 하나로 합치기\n",
    "news_df = pd.concat(dataframes.values())\n",
    "news_df.head(3)"
   ]
  },
  {
   "cell_type": "code",
   "execution_count": 6,
   "metadata": {
    "ExecuteTime": {
     "end_time": "2023-08-10T11:37:41.778787Z",
     "start_time": "2023-08-10T11:37:41.760024Z"
    },
    "colab": {
     "base_uri": "https://localhost:8080/",
     "height": 658
    },
    "id": "fNltUmBI8eOw",
    "outputId": "e3be03ee-5c30-4a2d-9756-d9a2dd5cb1c3"
   },
   "outputs": [
    {
     "data": {
      "text/html": [
       "<div>\n",
       "<style scoped>\n",
       "    .dataframe tbody tr th:only-of-type {\n",
       "        vertical-align: middle;\n",
       "    }\n",
       "\n",
       "    .dataframe tbody tr th {\n",
       "        vertical-align: top;\n",
       "    }\n",
       "\n",
       "    .dataframe thead th {\n",
       "        text-align: right;\n",
       "    }\n",
       "</style>\n",
       "<table border=\"1\" class=\"dataframe\">\n",
       "  <thead>\n",
       "    <tr style=\"text-align: right;\">\n",
       "      <th></th>\n",
       "      <th>제목</th>\n",
       "      <th>뉴스 출처</th>\n",
       "      <th>날짜</th>\n",
       "      <th>뉴스 본문</th>\n",
       "      <th>관련 href</th>\n",
       "      <th>preprocessed_content</th>\n",
       "      <th>preprocessed_title</th>\n",
       "      <th>구분</th>\n",
       "      <th>시간</th>\n",
       "      <th>년월</th>\n",
       "    </tr>\n",
       "  </thead>\n",
       "  <tbody>\n",
       "    <tr>\n",
       "      <th>37</th>\n",
       "      <td>\\n7월 외환보유액 2개월째 증가…3.5억달러 늘어난 4천218억달러\\n</td>\n",
       "      <td>연합뉴스</td>\n",
       "      <td>2023-08-03 14:32:00</td>\n",
       "      <td>(서울=연합뉴스) 박동주 기자 = 최근 미국 달러화 약세, 외화자산 운용수익 증가 ...</td>\n",
       "      <td>https://finance.naver.com/news/news_read.naver...</td>\n",
       "      <td>최근 미국 달러화 약세, 외화자산 운용수익 증가 등으로 우리나라 외환보유액이 2개월...</td>\n",
       "      <td>7월 외환보유액 2개월째 증가 3.5억달러 늘어난 4천218억달러</td>\n",
       "      <td>환율</td>\n",
       "      <td>14:32:00</td>\n",
       "      <td>2023-08-03</td>\n",
       "    </tr>\n",
       "    <tr>\n",
       "      <th>38</th>\n",
       "      <td>\\n7월 외환보유액…3.5억달러 늘어난 4천218억달러\\n</td>\n",
       "      <td>연합뉴스</td>\n",
       "      <td>2023-08-03 14:32:00</td>\n",
       "      <td>(서울=연합뉴스) 박동주 기자 = 최근 미국 달러화 약세, 외화자산 운용수익 증가 ...</td>\n",
       "      <td>https://finance.naver.com/news/news_read.naver...</td>\n",
       "      <td>최근 미국 달러화 약세, 외화자산 운용수익 증가 등으로 우리나라 외환보유액이 2개월...</td>\n",
       "      <td>7월 외환보유액 3.5억달러 늘어난 4천218억달러</td>\n",
       "      <td>환율</td>\n",
       "      <td>14:32:00</td>\n",
       "      <td>2023-08-03</td>\n",
       "    </tr>\n",
       "    <tr>\n",
       "      <th>39</th>\n",
       "      <td>\\n7월 외환보유액…3.5억달러 늘어난 4천218억달러\\n</td>\n",
       "      <td>연합뉴스</td>\n",
       "      <td>2023-08-03 14:32:00</td>\n",
       "      <td>(서울=연합뉴스) 박동주 기자 = 최근 미국 달러화 약세, 외화자산 운용수익 증가 ...</td>\n",
       "      <td>https://finance.naver.com/news/news_read.naver...</td>\n",
       "      <td>최근 미국 달러화 약세, 외화자산 운용수익 증가 등으로 우리나라 외환보유액이 2개월...</td>\n",
       "      <td>7월 외환보유액 3.5억달러 늘어난 4천218억달러</td>\n",
       "      <td>환율</td>\n",
       "      <td>14:32:00</td>\n",
       "      <td>2023-08-03</td>\n",
       "    </tr>\n",
       "  </tbody>\n",
       "</table>\n",
       "</div>"
      ],
      "text/plain": [
       "                                          제목 뉴스 출처                  날짜  \\\n",
       "37  \\n7월 외환보유액 2개월째 증가…3.5억달러 늘어난 4천218억달러\\n  연합뉴스 2023-08-03 14:32:00   \n",
       "38          \\n7월 외환보유액…3.5억달러 늘어난 4천218억달러\\n  연합뉴스 2023-08-03 14:32:00   \n",
       "39          \\n7월 외환보유액…3.5억달러 늘어난 4천218억달러\\n  연합뉴스 2023-08-03 14:32:00   \n",
       "\n",
       "                                                뉴스 본문  \\\n",
       "37  (서울=연합뉴스) 박동주 기자 = 최근 미국 달러화 약세, 외화자산 운용수익 증가 ...   \n",
       "38  (서울=연합뉴스) 박동주 기자 = 최근 미국 달러화 약세, 외화자산 운용수익 증가 ...   \n",
       "39  (서울=연합뉴스) 박동주 기자 = 최근 미국 달러화 약세, 외화자산 운용수익 증가 ...   \n",
       "\n",
       "                                              관련 href  \\\n",
       "37  https://finance.naver.com/news/news_read.naver...   \n",
       "38  https://finance.naver.com/news/news_read.naver...   \n",
       "39  https://finance.naver.com/news/news_read.naver...   \n",
       "\n",
       "                                 preprocessed_content  \\\n",
       "37  최근 미국 달러화 약세, 외화자산 운용수익 증가 등으로 우리나라 외환보유액이 2개월...   \n",
       "38  최근 미국 달러화 약세, 외화자산 운용수익 증가 등으로 우리나라 외환보유액이 2개월...   \n",
       "39  최근 미국 달러화 약세, 외화자산 운용수익 증가 등으로 우리나라 외환보유액이 2개월...   \n",
       "\n",
       "                      preprocessed_title  구분        시간          년월  \n",
       "37  7월 외환보유액 2개월째 증가 3.5억달러 늘어난 4천218억달러  환율  14:32:00  2023-08-03  \n",
       "38          7월 외환보유액 3.5억달러 늘어난 4천218억달러  환율  14:32:00  2023-08-03  \n",
       "39          7월 외환보유액 3.5억달러 늘어난 4천218억달러  환율  14:32:00  2023-08-03  "
      ]
     },
     "execution_count": 6,
     "metadata": {},
     "output_type": "execute_result"
    }
   ],
   "source": [
    "news_df['날짜'] = pd.to_datetime(news_df['날짜'])\n",
    "news_df['시간'] = news_df['날짜'].dt.time  # 날짜 컬럼을 활용하여 시간 부분 추출\n",
    "news_df['년월'] = news_df['날짜'].dt.date  # 날짜 컬럼을 활용하여 날짜 부분 추출\n",
    "news_df.tail(3)"
   ]
  },
  {
   "cell_type": "code",
   "execution_count": 7,
   "metadata": {
    "ExecuteTime": {
     "end_time": "2023-08-10T11:37:47.020592Z",
     "start_time": "2023-08-10T11:37:47.014593Z"
    },
    "id": "BC6zbrGcCD20"
   },
   "outputs": [],
   "source": [
    "def Date_Time_select(news_df, start_date, end_date):\n",
    "    from datetime import datetime, time\n",
    "\n",
    "    # '시작 날짜'와 '끝 날짜'를 datetime 형식으로 변환\n",
    "    start_datetime = datetime.strptime(start_date, '%Y-%m-%d %H:%M')\n",
    "    end_datetime = datetime.strptime(end_date, '%Y-%m-%d %H:%M')\n",
    "\n",
    "    # '시간' 컬럼을 datetime 형식으로 변환 후 필터링\n",
    "    news_df['날짜'] = pd.to_datetime(news_df['날짜'])  # 시간 열을 datetime 형식으로 변환\n",
    "    filtered_news_df = news_df[(start_datetime <= news_df['날짜']) & (news_df['날짜'] <= end_datetime)]\n",
    "\n",
    "    return filtered_news_df"
   ]
  },
  {
   "cell_type": "code",
   "execution_count": 13,
   "metadata": {
    "ExecuteTime": {
     "end_time": "2023-08-10T11:38:46.835522Z",
     "start_time": "2023-08-10T11:38:46.825523Z"
    },
    "colab": {
     "base_uri": "https://localhost:8080/",
     "height": 658
    },
    "id": "MP9lj2n7HgWE",
    "outputId": "37a99171-4571-475d-a4ba-3172312f8ab5"
   },
   "outputs": [
    {
     "name": "stdout",
     "output_type": "stream",
     "text": [
      "2023-08-07T09:00:00.000000000 ~ 2023-08-08T17:00:00.000000000\n"
     ]
    }
   ],
   "source": [
    "start_date = '2023-08-07 09:00'\n",
    "end_date = '2023-08-08 17:00'\n",
    "news_df = Date_Time_select(news_df, start_date, end_date)\n",
    "news_df = news_df.sort_values(by='날짜')\n",
    "print(news_df['날짜'].unique().min(), '~', news_df['날짜'].unique().max())"
   ]
  },
  {
   "cell_type": "code",
   "execution_count": 14,
   "metadata": {
    "ExecuteTime": {
     "end_time": "2023-08-10T11:45:24.376344Z",
     "start_time": "2023-08-10T11:45:24.368251Z"
    },
    "colab": {
     "base_uri": "https://localhost:8080/"
    },
    "id": "NfY1GYFu_riF",
    "outputId": "af1feadb-c652-4f00-d8c1-4b610db8fba6"
   },
   "outputs": [
    {
     "name": "stdout",
     "output_type": "stream",
     "text": [
      "(648, 10)\n"
     ]
    }
   ],
   "source": [
    "# 부친상 / 이벤트 들어간 기사는 행 삭제\n",
    "# NH證, 횡성군 마을공동체에 냉장고 36대 기부\n",
    "# 상장기념식\n",
    "# 취약계층 쿨매트 기부\n",
    "\n",
    "# 삭제할 키워드 리스트\n",
    "keywords_to_delete = ['이벤트', '상장기념식', '부친상']\n",
    "\n",
    "# 특정 키워드가 제목 또는 뉴스 본문에 포함된 행 삭제\n",
    "for keyword in keywords_to_delete:\n",
    "    if keyword != '부친상':\n",
    "        news_df = news_df[~ (news_df['preprocessed_title'].str.contains(keyword, na=False, case=False))]\n",
    "    else:\n",
    "        news_df = news_df[~ (news_df['preprocessed_content'].str.contains(keyword, na=False, case=False))]\n",
    "\n",
    "print(news_df.shape)"
   ]
  },
  {
   "cell_type": "code",
   "execution_count": 15,
   "metadata": {
    "ExecuteTime": {
     "end_time": "2023-08-10T11:45:25.236427Z",
     "start_time": "2023-08-10T11:45:25.226424Z"
    },
    "colab": {
     "base_uri": "https://localhost:8080/"
    },
    "id": "Wl02TpQB7Oqm",
    "outputId": "3657b514-b444-4be1-c558-4f607197b607"
   },
   "outputs": [
    {
     "data": {
      "text/plain": [
       "(589, 10)"
      ]
     },
     "execution_count": 15,
     "metadata": {},
     "output_type": "execute_result"
    }
   ],
   "source": [
    "# 뉴스 본문/제목에 1글자 이상\n",
    "news_df = news_df[news_df['preprocessed_title'].str.len() > 1]\n",
    "news_df = news_df[news_df['preprocessed_content'].str.len() > 1]\n",
    "\n",
    "# 동일한 뉴스 제목은 삭제\n",
    "news_df = news_df.drop_duplicates(subset=['preprocessed_title'])\n",
    "\n",
    "news_df.shape"
   ]
  },
  {
   "cell_type": "code",
   "execution_count": 16,
   "metadata": {
    "ExecuteTime": {
     "end_time": "2023-08-10T11:45:26.171812Z",
     "start_time": "2023-08-10T11:45:26.162809Z"
    },
    "id": "Lb1Q0g568i3M"
   },
   "outputs": [],
   "source": [
    "news_df = news_df.reset_index(drop=True)"
   ]
  },
  {
   "cell_type": "code",
   "execution_count": 17,
   "metadata": {
    "ExecuteTime": {
     "end_time": "2023-08-10T11:45:28.883599Z",
     "start_time": "2023-08-10T11:45:28.871484Z"
    },
    "colab": {
     "base_uri": "https://localhost:8080/"
    },
    "id": "EA04nGFC8lm1",
    "outputId": "22b64f53-4fc0-4d1f-ba5e-3b953ea33bc0"
   },
   "outputs": [
    {
     "name": "stdout",
     "output_type": "stream",
     "text": [
      "현대차증권은 7일 동원F&B에 대해 참치 실적이 견조한데 밸류에이션이 과도한 저평가상태라고 평가했다. 이에 따라 투자의견 매수 와 목표주가 4만5000원을 유지했다. 동원F&B의 2분기 연결 매출액은 1조520억원, 영업이익은 274억원으로 전년 동기 대비 각각 9.1%, 22.4% 증가한 것으로 집계됐다. 이는 시장 컨센서스를 상회한다. 하희지 연구원은 주력 제품인 참치 매출이 약 15% 성장해 일반 식품 외형 성장을 견인했다 며 높은 수준의 어가 및 환율에 따른 원가 부담에도 참치 가격 인상 효과 및 판매량 증가로 영업이익도 15% 성장한 것으로 추정된다 고 말했다. 이어 그는 하반기에도 견조한 참치 및 내식 식재료 카테고리 성장 흐름을 기대할 수 있다 면서도 다소 높은 수준의 어가 및 최근 상승한 원유가로 인한 원가 부담은 당분간 지속될 것 이라고 판단했다. 아울러 현재 주가는 12개월 포워드 PER 이 5배 수준으로 과도하게 저평가된 상태라고 분석했다. 하 연구원은 원가 부담 상쇄하는 이익 레버리지가 가능하다면 밸류에이션 정상화가 가능할 것 이라고 내다봤다.\n",
      "현대차증권은 7일 동원F&B에 대해 참치 실적이 견조한데 밸류에이션이 과도한 저평가상태라고 평가했다. 이에 따라 투자의견 '매수'와 목표주가 4만5000원을 유지했다. 동원F&B의 2분기 연결 매출액은 1조520억원, 영업이익은 274억원으로 전년 동기 대비 각각 9.1%, 22.4% 증가한 것으로 집계됐다. 이는 시장 컨센서스를 상회한다. 하희지 연구원은 \"주력 제품인 참치 매출이 약 15% 성장해 일반 식품 외형 성장을 견인했다\"며 \"높은 수준의 어가 및 환율에 따른 원가 부담에도 참치 가격 인상 효과 및 판매량 증가로 영업이익도 15% 성장한 것으로 추정된다\"고 말했다. 이어 그는 \"하반기에도 견조한 참치 및 내식 식재료 카테고리 성장 흐름을 기대할 수 있다\"면서도 \"다소 높은 수준의 어가 및 최근 상승한 원유가로 인한 원가 부담은 당분간 지속될 것\"이라고 판단했다. 아울러 현재 주가는 12개월 포워드 PER(주가수익비율)이 5배 수준으로 과도하게 저평가된 상태라고 분석했다. 하 연구원은 \"원가 부담 상쇄하는 이익 레버리지가 가능하다면 밸류에이션 정상화가 가능할 것\"이라고 내다봤다.머니투데이 관련뉴스해당 언론사에서 선정하며 언론사 페이지(아웃링크)로 이동해 볼 수 있습니다.\"성관계는 안 했다\" 낯선 男과 속옷 입고 잔 아내 '변명'서정희 \"故서세원, 늘 못생겼다 지적…살 빼라 강요\"'52세' 박선영 \"결혼 후 임신 가능, 상위 5%…재혼남도 OK\"\"이혼 후 기죽어\" 은지원, '배윤정 전남편' 제롬에 안타까움[영상]박서준, 무대 난입한 관객에 성추행 피해…정색\n"
     ]
    }
   ],
   "source": [
    "print(news_df['preprocessed_content'][1])\n",
    "print(news_df['뉴스 본문'][1])"
   ]
  },
  {
   "cell_type": "code",
   "execution_count": null,
   "metadata": {
    "id": "Fd6-892E8nWi"
   },
   "outputs": [],
   "source": [
    "# news_df.to_excel('/content/drive/MyDrive/Colab Notebooks/병합_230725_뉴스.xlsx', index=False, engine='openpyxl')"
   ]
  }
 ],
 "metadata": {
  "colab": {
   "provenance": []
  },
  "hide_input": false,
  "kernelspec": {
   "display_name": "Python 3 (ipykernel)",
   "language": "python",
   "name": "python3"
  },
  "language_info": {
   "codemirror_mode": {
    "name": "ipython",
    "version": 3
   },
   "file_extension": ".py",
   "mimetype": "text/x-python",
   "name": "python",
   "nbconvert_exporter": "python",
   "pygments_lexer": "ipython3",
   "version": "3.8.0"
  },
  "toc": {
   "base_numbering": 1,
   "nav_menu": {},
   "number_sections": true,
   "sideBar": true,
   "skip_h1_title": false,
   "title_cell": "Table of Contents",
   "title_sidebar": "Contents",
   "toc_cell": false,
   "toc_position": {},
   "toc_section_display": true,
   "toc_window_display": false
  },
  "varInspector": {
   "cols": {
    "lenName": 16,
    "lenType": 16,
    "lenVar": 40
   },
   "kernels_config": {
    "python": {
     "delete_cmd_postfix": "",
     "delete_cmd_prefix": "del ",
     "library": "var_list.py",
     "varRefreshCmd": "print(var_dic_list())"
    },
    "r": {
     "delete_cmd_postfix": ") ",
     "delete_cmd_prefix": "rm(",
     "library": "var_list.r",
     "varRefreshCmd": "cat(var_dic_list()) "
    }
   },
   "types_to_exclude": [
    "module",
    "function",
    "builtin_function_or_method",
    "instance",
    "_Feature"
   ],
   "window_display": false
  }
 },
 "nbformat": 4,
 "nbformat_minor": 1
}
